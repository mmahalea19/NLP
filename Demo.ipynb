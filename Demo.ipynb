{
  "nbformat": 4,
  "nbformat_minor": 0,
  "metadata": {
    "colab": {
      "name": "Demo.ipynb",
      "provenance": [],
      "collapsed_sections": [],
      "include_colab_link": true
    },
    "kernelspec": {
      "name": "python3",
      "display_name": "Python 3"
    }
  },
  "cells": [
    {
      "cell_type": "markdown",
      "metadata": {
        "id": "view-in-github",
        "colab_type": "text"
      },
      "source": [
        "<a href=\"https://colab.research.google.com/github/mmahalea19/NLP/blob/master/Demo.ipynb\" target=\"_parent\"><img src=\"https://colab.research.google.com/assets/colab-badge.svg\" alt=\"Open In Colab\"/></a>"
      ]
    },
    {
      "cell_type": "code",
      "metadata": {
        "id": "LUXH7l86QVFR",
        "colab_type": "code",
        "outputId": "0e38b2b1-7e8b-4e46-bc6a-9f397587b81f",
        "colab": {
          "base_uri": "https://localhost:8080/",
          "height": 54
        }
      },
      "source": [
        "NOTE!!! Keep the same folder structure W"
      ],
      "execution_count": 0,
      "outputs": [
        {
          "output_type": "stream",
          "text": [
            "Hi can you see this?\n"
          ],
          "name": "stdout"
        }
      ]
    },
    {
      "cell_type": "code",
      "metadata": {
        "id": "BpG_73RgQc9N",
        "colab_type": "code",
        "colab": {}
      },
      "source": [
        "Hi , aksl"
      ],
      "execution_count": 0,
      "outputs": []
    },
    {
      "cell_type": "markdown",
      "metadata": {
        "id": "9MfwkRWy-Yz1",
        "colab_type": "text"
      },
      "source": [
        "Task 3\n"
      ]
    },
    {
      "cell_type": "markdown",
      "metadata": {
        "id": "ssF2WdoPWKA4",
        "colab_type": "text"
      },
      "source": [
        "NOTE!!! Keep the same folder structure as described below, when downloading the Enron dataset:\n",
        "\n",
        "Enron_PRE\n",
        "\n",
        "Enron_RAW"
      ]
    },
    {
      "cell_type": "code",
      "metadata": {
        "id": "Yzi8AZ_MWWKX",
        "colab_type": "code",
        "colab": {}
      },
      "source": [
        ""
      ],
      "execution_count": 0,
      "outputs": []
    },
    {
      "cell_type": "markdown",
      "metadata": {
        "id": "6FV8xEnwC4fA",
        "colab_type": "text"
      },
      "source": [
        "Task 4-remove stopwords and others\n"
      ]
    },
    {
      "cell_type": "code",
      "metadata": {
        "id": "zIcAZLmmC8c4",
        "colab_type": "code",
        "colab": {}
      },
      "source": [
        "from nltk.corpus import stopwords \n",
        "from nltk.tokenize import word_tokenize \n",
        "\n",
        "def removeWords(phrases,options):\n",
        "  if \"stopword\" in options:\n",
        "    stop_words = set(stopwords.words('english')) \n",
        "    tokenized=map(lambda phrase:word_tokenize(phrase),phrases)\n",
        "    filtered=map(lambda phrase:[w for w in phrase if w not in stop_words],tokenized)\n",
        "    tokenized=map(lambda phrase:word_tokenize(phrase),phrases)\n",
        "    print(tokenized)\n",
        "    print(filtered)\n",
        "\n"
      ],
      "execution_count": 0,
      "outputs": []
    }
  ]
}