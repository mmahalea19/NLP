{
 "nbformat": 4,
 "nbformat_minor": 0,
 "metadata": {
  "colab": {
   "name": "Demo.ipynb",
   "provenance": [],
   "collapsed_sections": [],
   "include_colab_link": true
  },
  "kernelspec": {
   "name": "python3",
   "display_name": "Python 3"
  },
  "pycharm": {
   "stem_cell": {
    "cell_type": "raw",
    "source": [],
    "metadata": {
     "collapsed": false
    }
   }
  }
 },
 "cells": [
  {
   "cell_type": "markdown",
   "metadata": {
    "id": "view-in-github",
    "colab_type": "text"
   },
   "source": [
    "<a href=\"https://colab.research.google.com/github/mmahalea19/NLP/blob/master/Demo.ipynb\" target=\"_parent\"><img src=\"https://colab.research.google.com/assets/colab-badge.svg\" alt=\"Open In Colab\"/></a>"
   ]
  },
  {
   "cell_type": "code",
   "metadata": {
    "id": "LUXH7l86QVFR",
    "colab_type": "code",
    "outputId": "0e38b2b1-7e8b-4e46-bc6a-9f397587b81f",
    "colab": {
     "base_uri": "https://localhost:8080/",
     "height": 54
    },
    "pycharm": {
     "is_executing": false
    }
   },
   "source": [
    "NOTE!!! Keep the same folder structure W"
   ],
   "execution_count": 2,
   "outputs": [
    {
     "traceback": [
      "\u001b[0;36m  File \u001b[0;32m\"<ipython-input-2-1f500f859c75>\"\u001b[0;36m, line \u001b[0;32m1\u001b[0m\n\u001b[0;31m    NOTE!!! Keep the same folder structure W\u001b[0m\n\u001b[0m        ^\u001b[0m\n\u001b[0;31mSyntaxError\u001b[0m\u001b[0;31m:\u001b[0m invalid syntax\n"
     ],
     "ename": "SyntaxError",
     "evalue": "invalid syntax (<ipython-input-2-1f500f859c75>, line 1)",
     "output_type": "error"
    }
   ]
  },
  {
   "cell_type": "code",
   "metadata": {
    "id": "BpG_73RgQc9N",
    "colab_type": "code",
    "colab": {},
    "pycharm": {
     "is_executing": false
    }
   },
   "source": [
    "Hi , aksl"
   ],
   "execution_count": null,
   "outputs": []
  },
  {
   "cell_type": "markdown",
   "metadata": {
    "id": "9MfwkRWy-Yz1",
    "colab_type": "text"
   },
   "source": [
    "Task 3\n"
   ]
  },
  {
   "cell_type": "markdown",
   "metadata": {
    "id": "ssF2WdoPWKA4",
    "colab_type": "text"
   },
   "source": [
    "NOTE!!! Keep the same folder structure as described below, when downloading the Enron dataset:\n",
    "\n",
    "Enron_PRE\n",
    "\n",
    "Enron_RAW"
   ]
  },
  {
   "cell_type": "code",
   "metadata": {
    "id": "Yzi8AZ_MWWKX",
    "colab_type": "code",
    "colab": {},
    "pycharm": {
     "is_executing": false
    }
   },
   "source": [],
   "execution_count": null,
   "outputs": []
  },
  {
   "cell_type": "markdown",
   "metadata": {
    "id": "6FV8xEnwC4fA",
    "colab_type": "text"
   },
   "source": [
    "Task 4-remove stopwords and others\n"
   ]
  },
  {
   "cell_type": "code",
   "metadata": {
    "id": "zIcAZLmmC8c4",
    "colab_type": "code",
    "outputId": "7457a048-2513-4629-dbe0-3b5f42d6f97f",
    "colab": {
     "base_uri": "https://localhost:8080/",
     "height": 255
    },
    "pycharm": {
     "is_executing": false
    }
   },
   "source": [
    "import nltk\n",
    "import re\n",
    "nltk.download('stopwords')\n",
    "nltk.download('punkt')\n",
    "from nltk.corpus import stopwords \n",
    "from nltk.tokenize import word_tokenize ,RegexpTokenizer\n",
    "import string as string\n",
    "def removeWords(phrases,options):\n",
    "  print(\"Initial\")\n",
    "  print(phrases)\n",
    "  if(\"link\" in options):\n",
    "    phrases=[re.sub(r'''(?i)\\b((?:https?://|www\\d{0,3}[.]|[a-z0-9.\\-]+[.][a-z]{2,4}/)(?:[^\\s()<>]+|\\(([^\\s()<>]+|(\\([^\\s()<>]+\\)))*\\))+(?:\\(([^\\s()<>]+|(\\([^\\s()<>]+\\)))*\\)|[^\\s`!()\\[\\]{};:'\".,<>?«»“”‘’]))''', \" \", phrase) for phrase in phrases]\n",
    "    print(\"After link\")\n",
    "    print(phrases)\n",
    "  if \"symbol\" in options:\n",
    "    whitelist = string.ascii_letters + string.digits + ' '\n",
    "    symbolRemoved=[]\n",
    "    for phrase in phrases:\n",
    "      phrase1=''.join(list(map(lambda cha: cha if cha  in whitelist else ' ',phrase)))\n",
    "      symbolRemoved.append(phrase1)\n",
    "    print(\"After symbol removal\")\n",
    "\n",
    "    phrases=symbolRemoved\n",
    "    print(phrases)\n",
    "\n",
    "\n",
    "  tokenized=[word_tokenize(phrase) for phrase in phrases] #split in individual words\n",
    "  print(tokenized)\n",
    "  if \"stopword\" in options:\n",
    "    stop_words = set(stopwords.words('english')) #get set of stopwords\n",
    "    filtered=list(map(lambda phrase:[w for w in phrase if w not in stop_words],tokenized)) # remove words that appear in the stopwords set\n",
    "    print(\"After stopword removal\")\n",
    "\n",
    "    tokenized=filtered\n",
    "    #phrases=''.join(filtered)\n",
    "    phrases=[' '.join(x) for x in filtered]\n",
    "    print(phrases)\n",
    "    print(\"Done\")\n",
    "\n",
    "removeWords([\"This is-a really nice day to. ? swim in the ocean\",\"Hello  @my friends https://mdshasdasdhas carte\"],[\"stopword\",\"symbol\",\"link\"])"
   ],
   "execution_count": 8,
   "outputs": [
    {
     "name": "stdout",
     "text": [
      "Initial\n['This is-a really nice day to. ? swim in the ocean', 'Hello  @my friends https://mdshasdasdhas carte']\nAfter link\n['This is-a really nice day to. ? swim in the ocean', 'Hello  @my friends   carte']\nAfter symbol removal\n['This is a really nice day to    swim in the ocean', 'Hello   my friends   carte']\n[['This', 'is', 'a', 'really', 'nice', 'day', 'to', 'swim', 'in', 'the', 'ocean'], ['Hello', 'my', 'friends', 'carte']]\nAfter stopword removal\n['This really nice day swim ocean', 'Hello friends carte']\nDone\n"
     ],
     "output_type": "stream"
    },
    {
     "name": "stderr",
     "text": [
      "[nltk_data] Downloading package stopwords to /home/maha/nltk_data...\n[nltk_data]   Package stopwords is already up-to-date!\n[nltk_data] Downloading package punkt to /home/maha/nltk_data...\n[nltk_data]   Package punkt is already up-to-date!\n"
     ],
     "output_type": "stream"
    }
   ]
  },
  {
   "cell_type": "code",
   "metadata": {
    "id": "re2S7W3CTGKv",
    "colab_type": "code",
    "colab": {},
    "pycharm": {
     "is_executing": false
    }
   },
   "source": [
    ""
   ],
   "execution_count": null,
   "outputs": []
  }
 ]
}